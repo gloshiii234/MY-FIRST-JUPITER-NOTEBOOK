{
 "cells": [
  {
   "cell_type": "code",
   "execution_count": 1,
   "id": "76877491",
   "metadata": {},
   "outputs": [
    {
     "name": "stdout",
     "output_type": "stream",
     "text": [
      "This is my first code in a jupyter notebook\n"
     ]
    }
   ],
   "source": [
    "print(\"This is my first code in a jupyter notebook\")"
   ]
  },
  {
   "cell_type": "code",
   "execution_count": 2,
   "id": "53c41d66",
   "metadata": {},
   "outputs": [],
   "source": [
    "#VARIABLES\n",
    "a = 1"
   ]
  },
  {
   "cell_type": "code",
   "execution_count": 3,
   "id": "b7061ee4",
   "metadata": {},
   "outputs": [
    {
     "name": "stdout",
     "output_type": "stream",
     "text": [
      "1\n"
     ]
    }
   ],
   "source": [
    "print(a)\n"
   ]
  },
  {
   "cell_type": "code",
   "execution_count": 6,
   "id": "c17b4878",
   "metadata": {},
   "outputs": [],
   "source": [
    "#SWAPPING VARIABLES\n",
    "V1 = (\"it is a rainy day\")"
   ]
  },
  {
   "cell_type": "code",
   "execution_count": 8,
   "id": "0a33ac81",
   "metadata": {},
   "outputs": [
    {
     "name": "stdout",
     "output_type": "stream",
     "text": [
      "it is a rainy day\n"
     ]
    }
   ],
   "source": [
    "print(V1)"
   ]
  },
  {
   "cell_type": "code",
   "execution_count": 9,
   "id": "6f29ee5b",
   "metadata": {},
   "outputs": [],
   "source": [
    "V1 = (\"today is sunday\")\n",
    "V2 = ('I am going home')"
   ]
  },
  {
   "cell_type": "code",
   "execution_count": 10,
   "id": "00d71182",
   "metadata": {},
   "outputs": [
    {
     "name": "stdout",
     "output_type": "stream",
     "text": [
      "today is sunday\n",
      "I am going home\n"
     ]
    }
   ],
   "source": [
    "print(V1)\n",
    "print(V2)"
   ]
  },
  {
   "cell_type": "code",
   "execution_count": 11,
   "id": "c01f1cb3",
   "metadata": {},
   "outputs": [],
   "source": [
    "temp = V1\n",
    "tempz = V2\n",
    "V1 = (\"This sunday is a boring one\")\n",
    "V2 = temp"
   ]
  },
  {
   "cell_type": "code",
   "execution_count": 13,
   "id": "511506aa",
   "metadata": {},
   "outputs": [
    {
     "name": "stdout",
     "output_type": "stream",
     "text": [
      "today is sunday\n",
      "I am going home\n",
      "This sunday is a boring one\n",
      "today is sunday\n",
      "today is sunday\n",
      "today is sunday\n"
     ]
    }
   ],
   "source": [
    "print(temp)\n",
    "print(tempz)\n",
    "print(V1)\n",
    "print(temp)\n",
    "print(V2)\n",
    "print(temp)"
   ]
  },
  {
   "cell_type": "code",
   "execution_count": 28,
   "id": "25d1c80e",
   "metadata": {},
   "outputs": [],
   "source": [
    "#NUMBERS\n",
    "a = 24\n",
    "b = 12\n",
    "c = 10"
   ]
  },
  {
   "cell_type": "code",
   "execution_count": 15,
   "id": "dc3398c5",
   "metadata": {},
   "outputs": [
    {
     "name": "stdout",
     "output_type": "stream",
     "text": [
      "46\n"
     ]
    }
   ],
   "source": [
    "print(a+b+c)"
   ]
  },
  {
   "cell_type": "code",
   "execution_count": 16,
   "id": "1519eacd",
   "metadata": {},
   "outputs": [
    {
     "name": "stdout",
     "output_type": "stream",
     "text": [
      "288\n"
     ]
    }
   ],
   "source": [
    "print(a*b)"
   ]
  },
  {
   "cell_type": "code",
   "execution_count": 17,
   "id": "42645b65",
   "metadata": {},
   "outputs": [],
   "source": [
    "a = b"
   ]
  },
  {
   "cell_type": "code",
   "execution_count": 18,
   "id": "506a892f",
   "metadata": {},
   "outputs": [
    {
     "name": "stdout",
     "output_type": "stream",
     "text": [
      "24\n"
     ]
    }
   ],
   "source": [
    "print(a+b)"
   ]
  },
  {
   "cell_type": "code",
   "execution_count": 19,
   "id": "270f9a9f",
   "metadata": {},
   "outputs": [],
   "source": [
    "b = 13"
   ]
  },
  {
   "cell_type": "code",
   "execution_count": 20,
   "id": "7b9b6f45",
   "metadata": {},
   "outputs": [
    {
     "name": "stdout",
     "output_type": "stream",
     "text": [
      "25\n"
     ]
    }
   ],
   "source": [
    "print(a+b)\n"
   ]
  },
  {
   "cell_type": "code",
   "execution_count": 21,
   "id": "7996fef8",
   "metadata": {},
   "outputs": [],
   "source": [
    "a = (\"Glosh is amaizing\")\n",
    "b = (\"Anna is cool\")\n",
    "c = ('Abbey is fun')"
   ]
  },
  {
   "cell_type": "code",
   "execution_count": 22,
   "id": "25b32bcd",
   "metadata": {},
   "outputs": [],
   "source": [
    "a = b"
   ]
  },
  {
   "cell_type": "code",
   "execution_count": 23,
   "id": "1d68fc3a",
   "metadata": {},
   "outputs": [
    {
     "name": "stdout",
     "output_type": "stream",
     "text": [
      "Anna is cool\n"
     ]
    }
   ],
   "source": [
    "print(a)\n"
   ]
  },
  {
   "cell_type": "code",
   "execution_count": 25,
   "id": "f146dfd7",
   "metadata": {},
   "outputs": [],
   "source": [
    "a = c\n"
   ]
  },
  {
   "cell_type": "code",
   "execution_count": 27,
   "id": "5b22de61",
   "metadata": {},
   "outputs": [
    {
     "name": "stdout",
     "output_type": "stream",
     "text": [
      "Abbey is fun\n"
     ]
    }
   ],
   "source": [
    "print(a)"
   ]
  },
  {
   "cell_type": "code",
   "execution_count": 29,
   "id": "6d8af7ff",
   "metadata": {},
   "outputs": [],
   "source": [
    "a = c"
   ]
  },
  {
   "cell_type": "code",
   "execution_count": 30,
   "id": "1fe647d5",
   "metadata": {},
   "outputs": [
    {
     "name": "stdout",
     "output_type": "stream",
     "text": [
      "0\n"
     ]
    }
   ],
   "source": [
    "print(a-c)"
   ]
  },
  {
   "cell_type": "code",
   "execution_count": null,
   "id": "8ed564c0",
   "metadata": {},
   "outputs": [],
   "source": []
  },
  {
   "cell_type": "code",
   "execution_count": null,
   "id": "6a8a6204",
   "metadata": {},
   "outputs": [],
   "source": [
    "\n"
   ]
  }
 ],
 "metadata": {
  "kernelspec": {
   "display_name": "Python 3 (ipykernel)",
   "language": "python",
   "name": "python3"
  },
  "language_info": {
   "codemirror_mode": {
    "name": "ipython",
    "version": 3
   },
   "file_extension": ".py",
   "mimetype": "text/x-python",
   "name": "python",
   "nbconvert_exporter": "python",
   "pygments_lexer": "ipython3",
   "version": "3.9.13"
  }
 },
 "nbformat": 4,
 "nbformat_minor": 5
}
